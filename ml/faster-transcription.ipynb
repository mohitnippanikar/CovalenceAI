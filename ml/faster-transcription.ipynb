{
 "cells": [
  {
   "cell_type": "code",
   "execution_count": 1,
   "metadata": {},
   "outputs": [
    {
     "name": "stderr",
     "output_type": "stream",
     "text": [
      "c:\\Users\\yugtg\\Desktop\\CodeshastraXI\\Codeshastra_XI_LinearDepression\\.venv\\Lib\\site-packages\\tqdm\\auto.py:21: TqdmWarning: IProgress not found. Please update jupyter and ipywidgets. See https://ipywidgets.readthedocs.io/en/stable/user_install.html\n",
      "  from .autonotebook import tqdm as notebook_tqdm\n"
     ]
    }
   ],
   "source": [
    "from faster_whisper import WhisperModel"
   ]
  },
  {
   "cell_type": "code",
   "execution_count": 2,
   "metadata": {},
   "outputs": [],
   "source": [
    "def transcribe_audio(audio_path):\n",
    "    # Load the faster-whisper model\n",
    "    model = WhisperModel(\"base\", device=\"cpu\")  # Use \"cuda\" for GPU if available\n",
    "    segments, _ = model.transcribe(audio_path)\n",
    "\n",
    "    # Combine all segments into a single transcript\n",
    "    transcript = \"\"\n",
    "    for segment in segments:\n",
    "        transcript += segment.text + \" \"\n",
    "    return transcript.strip()\n"
   ]
  },
  {
   "cell_type": "code",
   "execution_count": 3,
   "metadata": {},
   "outputs": [
    {
     "data": {
      "text/plain": [
       "\"Atomic structure, proton, electron and neutron.  Before starting the lecture, click on the subscribe button and get access to a hundred  of conceptual lectures for free.  Well, we know that everything is made up of atoms.  For example, considered salt, sugar and water, they all are made up of atoms.  Human plants, animals and human beings are also made up of atoms.  Now the important question is, what makes up atoms?  Well, there are three tiny particles that make up atoms, proton, electron and neutron.  Remember that the ship of any atom is spherical, like a ball.  The structure of all atoms is the same.  There is a dense central part and any atom known as a nucleus.  Seekingly, there are fixed parts around the nucleus, known as the energy levels are shells.  The protons and neutrons live in the nucleus, while electrons are revolving around the nucleus,  just like planets revolve around the sun.  Here is one of the important questions that why electrons revolve around the nucleus?  Are what causes electron to revolve around the nucleus?  Well, remember that proton is a positively charged particle and electron is a negatively  charged particle.  There is electrostatic force between them.  It is a result of this force, electron constantly revolve around the nucleus.  Now what about neutrons?  Well, neutron is a neutral particle.  It means it doesn't carry either positive or negative charge.  Now let me teach you, an atom as a whole is a neutral particle.  For example, consider a hydrogen atom.  We know that there is only one proton in the nucleus of hydrogen and only one electron  that is revolving around the nucleus.  So we can write proton is equal to positive one because protons are positively charged  particles and we can write electron is equal to negative one because electrons are negatively  charged particles.  We know that positive one and negative one cancel out each other.  Thus this single positive proton neutralizes this single negative electron.  From this example, we learn that number of protons is equal to number of electrons in  any atom.  Let me repeat it, number of protons is equal to number of electrons in any atom.  This we therefore say that an atom as a whole is a neutral particle.  Now let me teach you something amazing that happens when the number of protons and electrons  increase inside the atom.  Let consider the helium atom.  We know that there are two protons in the nucleus of helium and two electrons that are revolving  in the first shell.  So let me ask you, these two protons have same charge.  I mean positive charge, are they repelling each other?  Well, the answer is absolute yes.  According to physics conventions, like charges, repel each other.  If they repel each other, then the structure of nucleus will get disturbance which is  not acceptable.  Can you guess something?  Well, here comes the part of neutrons.  As I told you that neutrons are electrically neutral particle.  Two neutrons in the helium nucleus come in action and separate this positive proton  from this positive proton.  You can also learn the function of neutrons in the nucleus as considered to current carrying  wires, touching each other, but they are protected by the plastic insulation.  Similarly, these neutrons act as a plastic insulation between are among positively charged  protons.  So by this way, repulsion among positively charged protons are minimized inside any atom.  Secondly, consider an atom of lithium.  There are three protons in the nucleus of lithium atom and there are three electrons revolving  around the nucleus.  Just like protons, electrons also repel one another, but there is not only one shell  are energy level and the lithium atom, there are two shells are two energy levels and  the lithium atom.  First shell can hold only two electrons.  Thus this electron will jump and to the second shell.  Second shell or second energy level is bigger than the first shell and can accommodate up  to add electrons.  Also we know that there are different energy levels like KLM and N.  So by this way, repulsion among negative charges are minimized.  To summarize my lecture, we learn that an atom is made up of three tiny particles,  proton, electron and neutron.  Secondly, we learn that an atom as a whole is electrically neutral because the number  of protons is equal to number of electrons.  Thirdly, we learn that neutron minimized the internal repulsion among protons and the  nucleus.  Finally, we learn that an atom consists of many shells to reduce the internal repulsion  among electrons.  This was all about atomic structure, proton, electron and neutron.\""
      ]
     },
     "execution_count": 3,
     "metadata": {},
     "output_type": "execute_result"
    }
   ],
   "source": [
    "transcribe_audio(\"audio.mp3\")"
   ]
  },
  {
   "cell_type": "code",
   "execution_count": 4,
   "metadata": {},
   "outputs": [
    {
     "ename": "KeyboardInterrupt",
     "evalue": "",
     "output_type": "error",
     "traceback": [
      "\u001b[31m---------------------------------------------------------------------------\u001b[39m",
      "\u001b[31mKeyboardInterrupt\u001b[39m                         Traceback (most recent call last)",
      "\u001b[36mCell\u001b[39m\u001b[36m \u001b[39m\u001b[32mIn[4]\u001b[39m\u001b[32m, line 11\u001b[39m\n\u001b[32m      3\u001b[39m model_size = \u001b[33m\"\u001b[39m\u001b[33mtiny\u001b[39m\u001b[33m\"\u001b[39m\n\u001b[32m      5\u001b[39m \u001b[38;5;66;03m# Run on GPU with FP16\u001b[39;00m\n\u001b[32m      6\u001b[39m \u001b[38;5;66;03m# model = WhisperModel(model_size, compute_type=\"float16\")\u001b[39;00m\n\u001b[32m      7\u001b[39m \n\u001b[32m      8\u001b[39m \u001b[38;5;66;03m# or run on GPU with INT8\u001b[39;00m\n\u001b[32m      9\u001b[39m \u001b[38;5;66;03m# model = WhisperModel(model_size, device=\"cuda\", compute_type=\"int8_float16\")\u001b[39;00m\n\u001b[32m     10\u001b[39m \u001b[38;5;66;03m# or run on CPU with INT8\u001b[39;00m\n\u001b[32m---> \u001b[39m\u001b[32m11\u001b[39m model = \u001b[43mWhisperModel\u001b[49m\u001b[43m(\u001b[49m\u001b[43mmodel_size\u001b[49m\u001b[43m,\u001b[49m\u001b[43m \u001b[49m\u001b[43mdevice\u001b[49m\u001b[43m=\u001b[49m\u001b[33;43m\"\u001b[39;49m\u001b[33;43mcpu\u001b[39;49m\u001b[33;43m\"\u001b[39;49m\u001b[43m,\u001b[49m\u001b[43m \u001b[49m\u001b[43mcompute_type\u001b[49m\u001b[43m=\u001b[49m\u001b[33;43m\"\u001b[39;49m\u001b[33;43mint8\u001b[39;49m\u001b[33;43m\"\u001b[39;49m\u001b[43m)\u001b[49m\n\u001b[32m     13\u001b[39m segments, info = model.transcribe(\u001b[33m\"\u001b[39m\u001b[33maudio.mp3\u001b[39m\u001b[33m\"\u001b[39m, beam_size=\u001b[32m5\u001b[39m)\n\u001b[32m     15\u001b[39m \u001b[38;5;28mprint\u001b[39m(\u001b[33m\"\u001b[39m\u001b[33mDetected language \u001b[39m\u001b[33m'\u001b[39m\u001b[38;5;132;01m%s\u001b[39;00m\u001b[33m'\u001b[39m\u001b[33m with probability \u001b[39m\u001b[38;5;132;01m%f\u001b[39;00m\u001b[33m\"\u001b[39m % (info.language, info.language_probability))\n",
      "\u001b[36mFile \u001b[39m\u001b[32mc:\\Users\\yugtg\\Desktop\\CodeshastraXI\\Codeshastra_XI_LinearDepression\\.venv\\Lib\\site-packages\\faster_whisper\\transcribe.py:641\u001b[39m, in \u001b[36mWhisperModel.__init__\u001b[39m\u001b[34m(self, model_size_or_path, device, device_index, compute_type, cpu_threads, num_workers, download_root, local_files_only, files, **model_kwargs)\u001b[39m\n\u001b[32m    639\u001b[39m     model_path = model_size_or_path\n\u001b[32m    640\u001b[39m \u001b[38;5;28;01melse\u001b[39;00m:\n\u001b[32m--> \u001b[39m\u001b[32m641\u001b[39m     model_path = \u001b[43mdownload_model\u001b[49m\u001b[43m(\u001b[49m\n\u001b[32m    642\u001b[39m \u001b[43m        \u001b[49m\u001b[43mmodel_size_or_path\u001b[49m\u001b[43m,\u001b[49m\n\u001b[32m    643\u001b[39m \u001b[43m        \u001b[49m\u001b[43mlocal_files_only\u001b[49m\u001b[43m=\u001b[49m\u001b[43mlocal_files_only\u001b[49m\u001b[43m,\u001b[49m\n\u001b[32m    644\u001b[39m \u001b[43m        \u001b[49m\u001b[43mcache_dir\u001b[49m\u001b[43m=\u001b[49m\u001b[43mdownload_root\u001b[49m\u001b[43m,\u001b[49m\n\u001b[32m    645\u001b[39m \u001b[43m    \u001b[49m\u001b[43m)\u001b[49m\n\u001b[32m    647\u001b[39m \u001b[38;5;28mself\u001b[39m.model = ctranslate2.models.Whisper(\n\u001b[32m    648\u001b[39m     model_path,\n\u001b[32m    649\u001b[39m     device=device,\n\u001b[32m   (...)\u001b[39m\u001b[32m    655\u001b[39m     **model_kwargs,\n\u001b[32m    656\u001b[39m )\n\u001b[32m    658\u001b[39m tokenizer_file = os.path.join(model_path, \u001b[33m\"\u001b[39m\u001b[33mtokenizer.json\u001b[39m\u001b[33m\"\u001b[39m)\n",
      "\u001b[36mFile \u001b[39m\u001b[32mc:\\Users\\yugtg\\Desktop\\CodeshastraXI\\Codeshastra_XI_LinearDepression\\.venv\\Lib\\site-packages\\faster_whisper\\utils.py:107\u001b[39m, in \u001b[36mdownload_model\u001b[39m\u001b[34m(size_or_id, output_dir, local_files_only, cache_dir)\u001b[39m\n\u001b[32m    104\u001b[39m     kwargs[\u001b[33m\"\u001b[39m\u001b[33mcache_dir\u001b[39m\u001b[33m\"\u001b[39m] = cache_dir\n\u001b[32m    106\u001b[39m \u001b[38;5;28;01mtry\u001b[39;00m:\n\u001b[32m--> \u001b[39m\u001b[32m107\u001b[39m     \u001b[38;5;28;01mreturn\u001b[39;00m \u001b[43mhuggingface_hub\u001b[49m\u001b[43m.\u001b[49m\u001b[43msnapshot_download\u001b[49m\u001b[43m(\u001b[49m\u001b[43mrepo_id\u001b[49m\u001b[43m,\u001b[49m\u001b[43m \u001b[49m\u001b[43m*\u001b[49m\u001b[43m*\u001b[49m\u001b[43mkwargs\u001b[49m\u001b[43m)\u001b[49m\n\u001b[32m    108\u001b[39m \u001b[38;5;28;01mexcept\u001b[39;00m (\n\u001b[32m    109\u001b[39m     huggingface_hub.utils.HfHubHTTPError,\n\u001b[32m    110\u001b[39m     requests.exceptions.ConnectionError,\n\u001b[32m    111\u001b[39m ) \u001b[38;5;28;01mas\u001b[39;00m exception:\n\u001b[32m    112\u001b[39m     logger = get_logger()\n",
      "\u001b[36mFile \u001b[39m\u001b[32mc:\\Users\\yugtg\\Desktop\\CodeshastraXI\\Codeshastra_XI_LinearDepression\\.venv\\Lib\\site-packages\\huggingface_hub\\utils\\_validators.py:114\u001b[39m, in \u001b[36mvalidate_hf_hub_args.<locals>._inner_fn\u001b[39m\u001b[34m(*args, **kwargs)\u001b[39m\n\u001b[32m    111\u001b[39m \u001b[38;5;28;01mif\u001b[39;00m check_use_auth_token:\n\u001b[32m    112\u001b[39m     kwargs = smoothly_deprecate_use_auth_token(fn_name=fn.\u001b[34m__name__\u001b[39m, has_token=has_token, kwargs=kwargs)\n\u001b[32m--> \u001b[39m\u001b[32m114\u001b[39m \u001b[38;5;28;01mreturn\u001b[39;00m \u001b[43mfn\u001b[49m\u001b[43m(\u001b[49m\u001b[43m*\u001b[49m\u001b[43margs\u001b[49m\u001b[43m,\u001b[49m\u001b[43m \u001b[49m\u001b[43m*\u001b[49m\u001b[43m*\u001b[49m\u001b[43mkwargs\u001b[49m\u001b[43m)\u001b[49m\n",
      "\u001b[36mFile \u001b[39m\u001b[32mc:\\Users\\yugtg\\Desktop\\CodeshastraXI\\Codeshastra_XI_LinearDepression\\.venv\\Lib\\site-packages\\huggingface_hub\\_snapshot_download.py:296\u001b[39m, in \u001b[36msnapshot_download\u001b[39m\u001b[34m(repo_id, repo_type, revision, cache_dir, local_dir, library_name, library_version, user_agent, proxies, etag_timeout, force_download, token, local_files_only, allow_patterns, ignore_patterns, max_workers, tqdm_class, headers, endpoint, local_dir_use_symlinks, resume_download)\u001b[39m\n\u001b[32m    294\u001b[39m         _inner_hf_hub_download(file)\n\u001b[32m    295\u001b[39m \u001b[38;5;28;01melse\u001b[39;00m:\n\u001b[32m--> \u001b[39m\u001b[32m296\u001b[39m     \u001b[43mthread_map\u001b[49m\u001b[43m(\u001b[49m\n\u001b[32m    297\u001b[39m \u001b[43m        \u001b[49m\u001b[43m_inner_hf_hub_download\u001b[49m\u001b[43m,\u001b[49m\n\u001b[32m    298\u001b[39m \u001b[43m        \u001b[49m\u001b[43mfiltered_repo_files\u001b[49m\u001b[43m,\u001b[49m\n\u001b[32m    299\u001b[39m \u001b[43m        \u001b[49m\u001b[43mdesc\u001b[49m\u001b[43m=\u001b[49m\u001b[33;43mf\u001b[39;49m\u001b[33;43m\"\u001b[39;49m\u001b[33;43mFetching \u001b[39;49m\u001b[38;5;132;43;01m{\u001b[39;49;00m\u001b[38;5;28;43mlen\u001b[39;49m\u001b[43m(\u001b[49m\u001b[43mfiltered_repo_files\u001b[49m\u001b[43m)\u001b[49m\u001b[38;5;132;43;01m}\u001b[39;49;00m\u001b[33;43m files\u001b[39;49m\u001b[33;43m\"\u001b[39;49m\u001b[43m,\u001b[49m\n\u001b[32m    300\u001b[39m \u001b[43m        \u001b[49m\u001b[43mmax_workers\u001b[49m\u001b[43m=\u001b[49m\u001b[43mmax_workers\u001b[49m\u001b[43m,\u001b[49m\n\u001b[32m    301\u001b[39m \u001b[43m        \u001b[49m\u001b[38;5;66;43;03m# User can use its own tqdm class or the default one from `huggingface_hub.utils`\u001b[39;49;00m\n\u001b[32m    302\u001b[39m \u001b[43m        \u001b[49m\u001b[43mtqdm_class\u001b[49m\u001b[43m=\u001b[49m\u001b[43mtqdm_class\u001b[49m\u001b[43m \u001b[49m\u001b[38;5;129;43;01mor\u001b[39;49;00m\u001b[43m \u001b[49m\u001b[43mhf_tqdm\u001b[49m\u001b[43m,\u001b[49m\n\u001b[32m    303\u001b[39m \u001b[43m    \u001b[49m\u001b[43m)\u001b[49m\n\u001b[32m    305\u001b[39m \u001b[38;5;28;01mif\u001b[39;00m local_dir \u001b[38;5;129;01mis\u001b[39;00m \u001b[38;5;129;01mnot\u001b[39;00m \u001b[38;5;28;01mNone\u001b[39;00m:\n\u001b[32m    306\u001b[39m     \u001b[38;5;28;01mreturn\u001b[39;00m \u001b[38;5;28mstr\u001b[39m(os.path.realpath(local_dir))\n",
      "\u001b[36mFile \u001b[39m\u001b[32mc:\\Users\\yugtg\\Desktop\\CodeshastraXI\\Codeshastra_XI_LinearDepression\\.venv\\Lib\\site-packages\\tqdm\\contrib\\concurrent.py:69\u001b[39m, in \u001b[36mthread_map\u001b[39m\u001b[34m(fn, *iterables, **tqdm_kwargs)\u001b[39m\n\u001b[32m     55\u001b[39m \u001b[38;5;250m\u001b[39m\u001b[33;03m\"\"\"\u001b[39;00m\n\u001b[32m     56\u001b[39m \u001b[33;03mEquivalent of `list(map(fn, *iterables))`\u001b[39;00m\n\u001b[32m     57\u001b[39m \u001b[33;03mdriven by `concurrent.futures.ThreadPoolExecutor`.\u001b[39;00m\n\u001b[32m   (...)\u001b[39m\u001b[32m     66\u001b[39m \u001b[33;03m    [default: max(32, cpu_count() + 4)].\u001b[39;00m\n\u001b[32m     67\u001b[39m \u001b[33;03m\"\"\"\u001b[39;00m\n\u001b[32m     68\u001b[39m \u001b[38;5;28;01mfrom\u001b[39;00m\u001b[38;5;250m \u001b[39m\u001b[34;01mconcurrent\u001b[39;00m\u001b[34;01m.\u001b[39;00m\u001b[34;01mfutures\u001b[39;00m\u001b[38;5;250m \u001b[39m\u001b[38;5;28;01mimport\u001b[39;00m ThreadPoolExecutor\n\u001b[32m---> \u001b[39m\u001b[32m69\u001b[39m \u001b[38;5;28;01mreturn\u001b[39;00m \u001b[43m_executor_map\u001b[49m\u001b[43m(\u001b[49m\u001b[43mThreadPoolExecutor\u001b[49m\u001b[43m,\u001b[49m\u001b[43m \u001b[49m\u001b[43mfn\u001b[49m\u001b[43m,\u001b[49m\u001b[43m \u001b[49m\u001b[43m*\u001b[49m\u001b[43miterables\u001b[49m\u001b[43m,\u001b[49m\u001b[43m \u001b[49m\u001b[43m*\u001b[49m\u001b[43m*\u001b[49m\u001b[43mtqdm_kwargs\u001b[49m\u001b[43m)\u001b[49m\n",
      "\u001b[36mFile \u001b[39m\u001b[32mc:\\Users\\yugtg\\Desktop\\CodeshastraXI\\Codeshastra_XI_LinearDepression\\.venv\\Lib\\site-packages\\tqdm\\contrib\\concurrent.py:51\u001b[39m, in \u001b[36m_executor_map\u001b[39m\u001b[34m(PoolExecutor, fn, *iterables, **tqdm_kwargs)\u001b[39m\n\u001b[32m     47\u001b[39m \u001b[38;5;28;01mwith\u001b[39;00m ensure_lock(tqdm_class, lock_name=lock_name) \u001b[38;5;28;01mas\u001b[39;00m lk:\n\u001b[32m     48\u001b[39m     \u001b[38;5;66;03m# share lock in case workers are already using `tqdm`\u001b[39;00m\n\u001b[32m     49\u001b[39m     \u001b[38;5;28;01mwith\u001b[39;00m PoolExecutor(max_workers=max_workers, initializer=tqdm_class.set_lock,\n\u001b[32m     50\u001b[39m                       initargs=(lk,)) \u001b[38;5;28;01mas\u001b[39;00m ex:\n\u001b[32m---> \u001b[39m\u001b[32m51\u001b[39m         \u001b[38;5;28;01mreturn\u001b[39;00m \u001b[38;5;28;43mlist\u001b[39;49m\u001b[43m(\u001b[49m\u001b[43mtqdm_class\u001b[49m\u001b[43m(\u001b[49m\u001b[43mex\u001b[49m\u001b[43m.\u001b[49m\u001b[43mmap\u001b[49m\u001b[43m(\u001b[49m\u001b[43mfn\u001b[49m\u001b[43m,\u001b[49m\u001b[43m \u001b[49m\u001b[43m*\u001b[49m\u001b[43miterables\u001b[49m\u001b[43m,\u001b[49m\u001b[43m \u001b[49m\u001b[43mchunksize\u001b[49m\u001b[43m=\u001b[49m\u001b[43mchunksize\u001b[49m\u001b[43m)\u001b[49m\u001b[43m,\u001b[49m\u001b[43m \u001b[49m\u001b[43m*\u001b[49m\u001b[43m*\u001b[49m\u001b[43mkwargs\u001b[49m\u001b[43m)\u001b[49m\u001b[43m)\u001b[49m\n",
      "\u001b[36mFile \u001b[39m\u001b[32mc:\\Users\\yugtg\\Desktop\\CodeshastraXI\\Codeshastra_XI_LinearDepression\\.venv\\Lib\\site-packages\\tqdm\\std.py:1169\u001b[39m, in \u001b[36mtqdm.__iter__\u001b[39m\u001b[34m(self)\u001b[39m\n\u001b[32m   1166\u001b[39m \u001b[38;5;66;03m# If the bar is disabled, then just walk the iterable\u001b[39;00m\n\u001b[32m   1167\u001b[39m \u001b[38;5;66;03m# (note: keep this check outside the loop for performance)\u001b[39;00m\n\u001b[32m   1168\u001b[39m \u001b[38;5;28;01mif\u001b[39;00m \u001b[38;5;28mself\u001b[39m.disable:\n\u001b[32m-> \u001b[39m\u001b[32m1169\u001b[39m \u001b[43m    \u001b[49m\u001b[38;5;28;43;01mfor\u001b[39;49;00m\u001b[43m \u001b[49m\u001b[43mobj\u001b[49m\u001b[43m \u001b[49m\u001b[38;5;129;43;01min\u001b[39;49;00m\u001b[43m \u001b[49m\u001b[43miterable\u001b[49m\u001b[43m:\u001b[49m\n\u001b[32m   1170\u001b[39m \u001b[43m        \u001b[49m\u001b[38;5;28;43;01myield\u001b[39;49;00m\u001b[43m \u001b[49m\u001b[43mobj\u001b[49m\n\u001b[32m   1171\u001b[39m     \u001b[38;5;28;01mreturn\u001b[39;00m\n",
      "\u001b[36mFile \u001b[39m\u001b[32mC:\\Python311\\Lib\\concurrent\\futures\\_base.py:619\u001b[39m, in \u001b[36mExecutor.map.<locals>.result_iterator\u001b[39m\u001b[34m()\u001b[39m\n\u001b[32m    616\u001b[39m \u001b[38;5;28;01mwhile\u001b[39;00m fs:\n\u001b[32m    617\u001b[39m     \u001b[38;5;66;03m# Careful not to keep a reference to the popped future\u001b[39;00m\n\u001b[32m    618\u001b[39m     \u001b[38;5;28;01mif\u001b[39;00m timeout \u001b[38;5;129;01mis\u001b[39;00m \u001b[38;5;28;01mNone\u001b[39;00m:\n\u001b[32m--> \u001b[39m\u001b[32m619\u001b[39m         \u001b[38;5;28;01myield\u001b[39;00m \u001b[43m_result_or_cancel\u001b[49m\u001b[43m(\u001b[49m\u001b[43mfs\u001b[49m\u001b[43m.\u001b[49m\u001b[43mpop\u001b[49m\u001b[43m(\u001b[49m\u001b[43m)\u001b[49m\u001b[43m)\u001b[49m\n\u001b[32m    620\u001b[39m     \u001b[38;5;28;01melse\u001b[39;00m:\n\u001b[32m    621\u001b[39m         \u001b[38;5;28;01myield\u001b[39;00m _result_or_cancel(fs.pop(), end_time - time.monotonic())\n",
      "\u001b[36mFile \u001b[39m\u001b[32mC:\\Python311\\Lib\\concurrent\\futures\\_base.py:317\u001b[39m, in \u001b[36m_result_or_cancel\u001b[39m\u001b[34m(***failed resolving arguments***)\u001b[39m\n\u001b[32m    315\u001b[39m \u001b[38;5;28;01mtry\u001b[39;00m:\n\u001b[32m    316\u001b[39m     \u001b[38;5;28;01mtry\u001b[39;00m:\n\u001b[32m--> \u001b[39m\u001b[32m317\u001b[39m         \u001b[38;5;28;01mreturn\u001b[39;00m \u001b[43mfut\u001b[49m\u001b[43m.\u001b[49m\u001b[43mresult\u001b[49m\u001b[43m(\u001b[49m\u001b[43mtimeout\u001b[49m\u001b[43m)\u001b[49m\n\u001b[32m    318\u001b[39m     \u001b[38;5;28;01mfinally\u001b[39;00m:\n\u001b[32m    319\u001b[39m         fut.cancel()\n",
      "\u001b[36mFile \u001b[39m\u001b[32mC:\\Python311\\Lib\\concurrent\\futures\\_base.py:451\u001b[39m, in \u001b[36mFuture.result\u001b[39m\u001b[34m(self, timeout)\u001b[39m\n\u001b[32m    448\u001b[39m \u001b[38;5;28;01melif\u001b[39;00m \u001b[38;5;28mself\u001b[39m._state == FINISHED:\n\u001b[32m    449\u001b[39m     \u001b[38;5;28;01mreturn\u001b[39;00m \u001b[38;5;28mself\u001b[39m.__get_result()\n\u001b[32m--> \u001b[39m\u001b[32m451\u001b[39m \u001b[38;5;28;43mself\u001b[39;49m\u001b[43m.\u001b[49m\u001b[43m_condition\u001b[49m\u001b[43m.\u001b[49m\u001b[43mwait\u001b[49m\u001b[43m(\u001b[49m\u001b[43mtimeout\u001b[49m\u001b[43m)\u001b[49m\n\u001b[32m    453\u001b[39m \u001b[38;5;28;01mif\u001b[39;00m \u001b[38;5;28mself\u001b[39m._state \u001b[38;5;129;01min\u001b[39;00m [CANCELLED, CANCELLED_AND_NOTIFIED]:\n\u001b[32m    454\u001b[39m     \u001b[38;5;28;01mraise\u001b[39;00m CancelledError()\n",
      "\u001b[36mFile \u001b[39m\u001b[32mC:\\Python311\\Lib\\threading.py:320\u001b[39m, in \u001b[36mCondition.wait\u001b[39m\u001b[34m(self, timeout)\u001b[39m\n\u001b[32m    318\u001b[39m \u001b[38;5;28;01mtry\u001b[39;00m:    \u001b[38;5;66;03m# restore state no matter what (e.g., KeyboardInterrupt)\u001b[39;00m\n\u001b[32m    319\u001b[39m     \u001b[38;5;28;01mif\u001b[39;00m timeout \u001b[38;5;129;01mis\u001b[39;00m \u001b[38;5;28;01mNone\u001b[39;00m:\n\u001b[32m--> \u001b[39m\u001b[32m320\u001b[39m         \u001b[43mwaiter\u001b[49m\u001b[43m.\u001b[49m\u001b[43macquire\u001b[49m\u001b[43m(\u001b[49m\u001b[43m)\u001b[49m\n\u001b[32m    321\u001b[39m         gotit = \u001b[38;5;28;01mTrue\u001b[39;00m\n\u001b[32m    322\u001b[39m     \u001b[38;5;28;01melse\u001b[39;00m:\n",
      "\u001b[31mKeyboardInterrupt\u001b[39m: "
     ]
    }
   ],
   "source": [
    "from faster_whisper import WhisperModel\n",
    "\n",
    "model_size = \"tiny\"\n",
    "\n",
    "# Run on GPU with FP16\n",
    "# model = WhisperModel(model_size, compute_type=\"float16\")\n",
    "\n",
    "# or run on GPU with INT8\n",
    "# model = WhisperModel(model_size, device=\"cuda\", compute_type=\"int8_float16\")\n",
    "# or run on CPU with INT8\n",
    "model = WhisperModel(model_size, device=\"cpu\", compute_type=\"int8\")\n",
    "\n",
    "segments, info = model.transcribe(\"audio.mp3\", beam_size=5)\n",
    "\n",
    "print(\"Detected language '%s' with probability %f\" % (info.language, info.language_probability))\n",
    "\n",
    "for segment in segments:\n",
    "    print(\"[%.2fs -> %.2fs] %s\" % (segment.start, segment.end, segment.text))"
   ]
  },
  {
   "cell_type": "code",
   "execution_count": null,
   "metadata": {},
   "outputs": [],
   "source": [
    "from audio_extract import extract_audio\n",
    "\n",
    "a = extract_audio(input_path=\"video.mp4\", output_path=\"ok.mp3\")\n",
    "print(a)"
   ]
  },
  {
   "cell_type": "code",
   "execution_count": 1,
   "metadata": {},
   "outputs": [
    {
     "name": "stderr",
     "output_type": "stream",
     "text": [
      "c:\\Users\\yugtg\\Desktop\\CodeshastraXI\\Codeshastra_XI_LinearDepression\\.venv\\Lib\\site-packages\\tqdm\\auto.py:21: TqdmWarning: IProgress not found. Please update jupyter and ipywidgets. See https://ipywidgets.readthedocs.io/en/stable/user_install.html\n",
      "  from .autonotebook import tqdm as notebook_tqdm\n"
     ]
    },
    {
     "ename": "",
     "evalue": "",
     "output_type": "error",
     "traceback": [
      "\u001b[1;31mThe Kernel crashed while executing code in the current cell or a previous cell. \n",
      "\u001b[1;31mPlease review the code in the cell(s) to identify a possible cause of the failure. \n",
      "\u001b[1;31mClick <a href='https://aka.ms/vscodeJupyterKernelCrash'>here</a> for more info. \n",
      "\u001b[1;31mView Jupyter <a href='command:jupyter.viewOutput'>log</a> for further details."
     ]
    }
   ],
   "source": [
    "from faster_whisper import WhisperModel\n",
    "\n",
    "model = WhisperModel(\"tiny.en\", compute_type=\"int8\")  # compute_type can be \"int8\" or \"float16\"\n",
    "segments, info = model.transcribe(\"audio.mp3\")\n",
    "for segment in segments:\n",
    "    print(segment.text)\n"
   ]
  },
  {
   "cell_type": "code",
   "execution_count": null,
   "metadata": {},
   "outputs": [
    {
     "name": "stdout",
     "output_type": "stream",
     "text": [
      "Success : audio file has been saved to \"c:\\Users\\yugtg\\Desktop\\CodeshastraXI\\Codeshastra_XI_LinearDepression\\ml\\audiotry.wav.mp3\".\n",
      "None\n"
     ]
    }
   ],
   "source": []
  },
  {
   "cell_type": "code",
   "execution_count": 5,
   "metadata": {},
   "outputs": [
    {
     "data": {
      "text/plain": [
       "\" Atomic Structure, Proton, Electron and Neutron.  Before starting the lecture, click on the subscribe button and get access to 100 of conceptual  lectures for free.  Well, we know that everything is made up of atoms.  For example, consider salt, sugar and water, they all are made up of atoms.  In plants, animals and human beings are also made up of atoms.  No the important question is what makes up atoms?  Well, there are three tiny particles that make up atoms.  Proton, Electron and Neutron.  Remember that the ship of any atom is spherical, like a ball.  The structure of all atoms is the same.  There is a dense central part in any atom, known as a nucleus.  Secondly, there are fixed paths around the nucleus, known as the energy levels are shells.  The protons and neutrons live in the nucleus, while electrons are revolving around the nucleus,  just like planets revolve around the sun.  Here is one of the important questions that why electrons revolve around the nucleus,  are what causes electron to revolve around the nucleus?  Well, remember that proton is a positively charged particle, and electron is a negatively  charged particle.  There is electrostatic force between them.  As a result of this force, electron constantly revolve around the nucleus.  Now what about neutrons?  Well, neutron is a neutral particle.  It means it doesn't carry either positive or negative charge.  Now let me teach you, an atom as a whole is a neutral particle.  For example, consider a hydrogen atom.  We know that there is only one proton in the nucleus of hydrogen, and only one electron  that is revolving around the nucleus.  So we can write proton is equal to positive one, because protons are positively charged  particles.  And we can write, electron is equal to negative one, because electrons are negatively  charged particles.  We know that positive one and negative one cancel out each other.  Thus this single positive proton neutralize this single negative electron.  From this example, we learn that number of protons is equal to number of electrons in  any atom.  Let me repeat it.  Number of protons is equal to number of electrons in any atom.  Thus we therefore say that an atom as a whole is a neutral particle.  Now let me teach you something amazing that happens when the number of protons and electrons  increase inside the atom.  Let consider the helium atom.  We know that there are two protons in the nucleus of helium and two electrons that are  revolving in the first shell.  Now let me ask you, these two protons have same charge.  I mean positive charge, are they repelling each other?  Well, the answer is absolute yes.  According to physics conventions, like charges repel each other, f they repel each other,  then the structure of nucleus will get disturbance, which is not acceptable.  Can you guess something?  Well, here comes the part of neutrons.  As I told you that neutrons are electrically neutral particle.  Two neutrons in the helium nucleus come in action and separate this positive proton from  this positive proton.  You can also learn the function of neutrons in the nucleus as considered two current  carrying wires, touching each other, but they are protected by the plastic insulation.  Similarly, these neutrons act as a plastic insulation between are among positively charged  protons.  So by this way repulsion among positively charged protons are minimized inside any atom.  Secondly, consider an atom of lithium.  There are three protons in the nucleus of lithium atom, and there are three electrons revolving  around the nucleus.  Just like protons, electrons also repel one another, but there is not only one shell  are energy level and the lithium atom, there are two shells are two energy levels  and the lithium atom.  First shell can hold only two electrons.  Thus this electron will jump and to the second shell.  Second shell a second energy level is bigger than the first shell and can accommodate  up to at electrons.  Also, we know that there are different energy levels like K, L, M and N.  So by this way repulsion among negative charges are minimized.  To summarize my lecture, we learned that an atom is made up of three tiny particles,  proton, electron and neutron.  Secondly, we learned that an atom as a whole is electrically neutral because the number  of protons is equal to number of electrons.  Thirdly, we learned that neutron minimize the internal repulsion among protons and the  nucleus.  Finally, we learned that an atom consists of many shells to reduce the internal repulsion  among electrons.  This was all about atomic structure, proton, electron and neutron. \""
      ]
     },
     "execution_count": 5,
     "metadata": {},
     "output_type": "execute_result"
    }
   ],
   "source": [
    "def transcribe_chunks(chunk_file):\n",
    "    model = WhisperModel(\"tiny.en\", device=\"cpu\", compute_type=\"int8\")  # safest for kernel not crashing\n",
    "    full_text = \"\"\n",
    "    \n",
    "    segments, _ = model.transcribe(chunk_file)\n",
    "    for segment in segments:\n",
    "        full_text += segment.text + \" \"\n",
    "    return full_text\n",
    "\n",
    "transcribe_chunks(\"audio.mp3\")"
   ]
  },
  {
   "cell_type": "code",
   "execution_count": 2,
   "metadata": {},
   "outputs": [
    {
     "name": "stderr",
     "output_type": "stream",
     "text": [
      "c:\\Users\\yugtg\\Desktop\\CodeshastraXI\\Codeshastra_XI_LinearDepression\\.venv\\Lib\\site-packages\\tqdm\\auto.py:21: TqdmWarning: IProgress not found. Please update jupyter and ipywidgets. See https://ipywidgets.readthedocs.io/en/stable/user_install.html\n",
      "  from .autonotebook import tqdm as notebook_tqdm\n"
     ]
    },
    {
     "name": "stdout",
     "output_type": "stream",
     "text": [
      "\n",
      "--- Full Transcription ---\n",
      "\n",
      " Atomic Structure, Proton, Electron and Neutron.  Before starting the lecture, click on the subscribe button and get access to 100 of conceptual  lectures for free.  Well, we know that everything is made up of atoms.  For example, consider salt, sugar and water, they all are made up of atoms.  Animals and human beings are also made up of atoms.  No, the important question is, what makes up atoms?  Well, there are three tiny particles that make up atoms.  Proton, Electron and Neutron.  Remember that the ship of any atom is spherical, like a ball.  The structure of all atoms is the same.  There is a dense set.  central part and any atom known as a nucleus.  Secondly, there are fixed path around the nucleus known as a energy levels or shells.  The protons and neutrons live in the nucleus, while electrons are revolving around the nucleus,  just like planets revolve around the sun.  Here is one of the important questions that why electrons revolve around the nucleus.  are what causes electron to revolve around the nucleus.  Well, remember that proton is a positively charged particle,  and electron is a negatively charged particle.  There is electrostatic force between them.  As a result of this force, electron constantly revolve around the nucleus.  Now what about neutrons?  Well, neutron is a neutral...  particle. It means it doesn't carry either positive or negative charge. Now let me teach  you an atom as a whole is a neutral particle. For example consider a hydrogen atom. We know  that there is only one proton in the nucleus of hydrogen and only one electron that is revolving  around the nucleus. So we can write proton is equal.  to positive 1 because protons are positively charged particles and we can write electron is  equal to negative 1 because electrons are negatively charged particles. We know that positive 1  and negative 1 cancel out each other thus this single positive proton neutralize this single  negative electron. From this example, we learned  that number of protons is equal to number of electrons in any atom, let me repeat it.  Number of protons is equal to number of electrons in any atom.  Thus we therefore say that an atom as a whole is a neutral particle.  Now let me teach you something amazing that happens when the number of protons and electrons  increase inside.  the atom. Let's consider the helium atom. We know that there are two protons in the  nucleus of helium and two electrons that are revolving in the first shell. Now let me ask  you, these two protons have same charge. I mean positive charge. Are they repelling each  other? Well, the answer is absolute yes. According to physics conventions.  like charges, repel each other, if they repel each other then the structure of  nucleus will get disturbance which is not acceptable. Can you guess something?  Well here comes the part of neutrons. As I told you that neutrons are  electrically neutral particle. Two neutrons in the helium nucleus come in  action and separate this positive pro torque.  from this positive proton.  You can also learn the function of neutrons in the nucleus as considered to current carrying  wires, touching each other, but they are protected by the plastic insulation.  Similarly, these neutrons act as a plastic insulation between are among positively charged  protons.  So by this way, repur-  Culture among positively charged protons are minimized inside any atom.  Secondly, consider an atom of lithium.  There are 3 protons in the nucleus of lithium atom, and there are 3 electrons revolving  around the nucleus.  Just like protons, electrons also repel one another, but there is not only one shell  Energy level and the lithium atom there are two shells are two energy levels and the lithium  atom. First shell can hold only two electrons. Thus this electron will jump and to the second  shell. Second shell a second energy level is bigger than the first shell and can accommodate  up to at electrons. Also we know that there are different energy levels.  levels like K, L, M and N. So by this way, repulsion among negative charges are minimized.  To summarize my lecture, we learned that an atom is made up of three tiny particles,  proton, electron and neutron. Secondly, we learned that an atom as a whole is electrically  neutral, because the number of proton...  is equal to number of electrons.  Thirdly, we learned that neutron minimized the internal repulsion among protons and  the nucleus.  Finally, we learned that an atom consists of many shells to reduce the internal repulsion  among electrons.  This was all about atomic structure, proton, electron and neutron. \n"
     ]
    }
   ],
   "source": [
    "from pydub import AudioSegment\n",
    "from faster_whisper import WhisperModel\n",
    "import os\n",
    "\n",
    "# Preprocessing: Split MP3 audio into 30-second chunks and save as WAV\n",
    "def split_audio(input_audio_path, chunk_length_ms=30000):\n",
    "    audio = AudioSegment.from_file(input_audio_path, format=\"mp3\")  # explicitly tell it's mp3\n",
    "    chunks = [audio[i:i+chunk_length_ms] for i in range(0, len(audio), chunk_length_ms)]\n",
    "    chunk_files = []\n",
    "    os.makedirs(\"chunks\", exist_ok=True)\n",
    "    for i, chunk in enumerate(chunks):\n",
    "        chunk_path = f\"chunks/chunk_{i}.wav\"\n",
    "        chunk.export(chunk_path, format=\"wav\")  # export as WAV (faster-whisper expects WAV)\n",
    "        chunk_files.append(chunk_path)\n",
    "    return chunk_files\n",
    "\n",
    "# Transcription: Load model (tiny + int8) and transcribe each chunk\n",
    "def transcribe_chunks(chunk_files):\n",
    "    model = WhisperModel(\"tiny.en\", device=\"cpu\", compute_type=\"int8\")  # safest for kernel not crashing\n",
    "    full_text = \"\"\n",
    "    for chunk_path in chunk_files:\n",
    "        segments, _ = model.transcribe(chunk_path)\n",
    "        for segment in segments:\n",
    "            full_text += segment.text + \" \"\n",
    "    return full_text\n",
    "\n",
    "if __name__ == \"__main__\":\n",
    "    input_audio_path = \"audio.mp3\"  # 🎵 your MP3 file name here\n",
    "    chunk_files = split_audio(input_audio_path)\n",
    "    transcription = transcribe_chunks(chunk_files)\n",
    "    print(\"\\n--- Full Transcription ---\\n\")\n",
    "    print(transcription)\n"
   ]
  },
  {
   "cell_type": "code",
   "execution_count": null,
   "metadata": {},
   "outputs": [],
   "source": []
  }
 ],
 "metadata": {
  "kernelspec": {
   "display_name": ".venv",
   "language": "python",
   "name": "python3"
  },
  "language_info": {
   "codemirror_mode": {
    "name": "ipython",
    "version": 3
   },
   "file_extension": ".py",
   "mimetype": "text/x-python",
   "name": "python",
   "nbconvert_exporter": "python",
   "pygments_lexer": "ipython3",
   "version": "3.11.3"
  }
 },
 "nbformat": 4,
 "nbformat_minor": 2
}
